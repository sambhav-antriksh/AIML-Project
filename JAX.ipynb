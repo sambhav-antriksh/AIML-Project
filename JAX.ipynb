{
  "nbformat": 4,
  "nbformat_minor": 0,
  "metadata": {
    "colab": {
      "provenance": [],
      "authorship_tag": "ABX9TyNB3FscC9LpS8igWIfyKNnd",
      "include_colab_link": true
    },
    "kernelspec": {
      "name": "python3",
      "display_name": "Python 3"
    },
    "language_info": {
      "name": "python"
    }
  },
  "cells": [
    {
      "cell_type": "markdown",
      "metadata": {
        "id": "view-in-github",
        "colab_type": "text"
      },
      "source": [
        "<a href=\"https://colab.research.google.com/github/sambhav-antriksh/AIML-Project/blob/main/JAX.ipynb\" target=\"_parent\"><img src=\"https://colab.research.google.com/assets/colab-badge.svg\" alt=\"Open In Colab\"/></a>"
      ]
    },
    {
      "cell_type": "code",
      "source": [],
      "metadata": {
        "id": "1aARQMg2_pm3"
      },
      "execution_count": null,
      "outputs": []
    },
    {
      "cell_type": "markdown",
      "source": [
        "\n"
      ],
      "metadata": {
        "id": "_TSzidMNpSel"
      }
    },
    {
      "cell_type": "markdown",
      "source": [
        "# JAX Tutorial\n",
        "# We need to learn the JAX in our own way\n",
        "So what is  JAX ?"
      ],
      "metadata": {
        "id": "cH009HvqqCL9"
      }
    },
    {
      "cell_type": "markdown",
      "source": [
        "JAX provides a unified Numpy like interface to computations that can run on CPU,GPU and TPU, in local as well as in distributed settings."
      ],
      "metadata": {
        "id": "I2c9qEDEqRMU"
      }
    },
    {
      "cell_type": "code",
      "source": [],
      "metadata": {
        "id": "X0NU18SUqPSN"
      },
      "execution_count": null,
      "outputs": []
    }
  ]
}