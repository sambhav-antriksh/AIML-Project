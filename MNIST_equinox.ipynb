{
  "nbformat": 4,
  "nbformat_minor": 0,
  "metadata": {
    "colab": {
      "provenance": [],
      "authorship_tag": "ABX9TyOJao0s2Dqy8OWbhwz+n6yJ",
      "include_colab_link": true
    },
    "kernelspec": {
      "name": "python3",
      "display_name": "Python 3"
    },
    "language_info": {
      "name": "python"
    }
  },
  "cells": [
    {
      "cell_type": "markdown",
      "metadata": {
        "id": "view-in-github",
        "colab_type": "text"
      },
      "source": [
        "<a href=\"https://colab.research.google.com/github/sambhav-antriksh/AIML-Project/blob/main/MNIST_equinox.ipynb\" target=\"_parent\"><img src=\"https://colab.research.google.com/assets/colab-badge.svg\" alt=\"Open In Colab\"/></a>"
      ]
    },
    {
      "cell_type": "markdown",
      "source": [
        "# Creating a Convolutional Neural Network on MNIST\n",
        "Equinox is one such library which provides neural network capability to JAX."
      ],
      "metadata": {
        "id": "snDPEAAkSIOO"
      }
    },
    {
      "cell_type": "code",
      "execution_count": 2,
      "metadata": {
        "colab": {
          "base_uri": "https://localhost:8080/",
          "height": 390
        },
        "id": "yTx0_jwgG2Qp",
        "outputId": "dfcd6bb1-3147-43d1-8fc2-cb78b7763987"
      },
      "outputs": [
        {
          "output_type": "error",
          "ename": "ModuleNotFoundError",
          "evalue": "No module named 'equinox'",
          "traceback": [
            "\u001b[0;31m---------------------------------------------------------------------------\u001b[0m",
            "\u001b[0;31mModuleNotFoundError\u001b[0m                       Traceback (most recent call last)",
            "\u001b[0;32m/tmp/ipython-input-2131948934.py\u001b[0m in \u001b[0;36m<cell line: 0>\u001b[0;34m()\u001b[0m\n\u001b[0;32m----> 1\u001b[0;31m \u001b[0;32mimport\u001b[0m \u001b[0mequinox\u001b[0m \u001b[0;32mas\u001b[0m \u001b[0meqx\u001b[0m\u001b[0;34m\u001b[0m\u001b[0;34m\u001b[0m\u001b[0m\n\u001b[0m\u001b[1;32m      2\u001b[0m \u001b[0;32mimport\u001b[0m \u001b[0mjax\u001b[0m\u001b[0;34m\u001b[0m\u001b[0;34m\u001b[0m\u001b[0m\n\u001b[1;32m      3\u001b[0m \u001b[0;32mimport\u001b[0m \u001b[0mjax\u001b[0m\u001b[0;34m.\u001b[0m\u001b[0mnumpy\u001b[0m \u001b[0;32mas\u001b[0m \u001b[0mjnp\u001b[0m\u001b[0;34m\u001b[0m\u001b[0;34m\u001b[0m\u001b[0m\n\u001b[1;32m      4\u001b[0m \u001b[0;32mimport\u001b[0m \u001b[0moptax\u001b[0m\u001b[0;34m\u001b[0m\u001b[0;34m\u001b[0m\u001b[0m\n\u001b[1;32m      5\u001b[0m \u001b[0;32mimport\u001b[0m \u001b[0mtorch\u001b[0m\u001b[0;34m\u001b[0m\u001b[0;34m\u001b[0m\u001b[0m\n",
            "\u001b[0;31mModuleNotFoundError\u001b[0m: No module named 'equinox'",
            "",
            "\u001b[0;31m---------------------------------------------------------------------------\u001b[0;32m\nNOTE: If your import is failing due to a missing package, you can\nmanually install dependencies using either !pip or !apt.\n\nTo view examples of installing some common dependencies, click the\n\"Open Examples\" button below.\n\u001b[0;31m---------------------------------------------------------------------------\u001b[0m\n"
          ],
          "errorDetails": {
            "actions": [
              {
                "action": "open_url",
                "actionText": "Open Examples",
                "url": "/notebooks/snippets/importing_libraries.ipynb"
              }
            ]
          }
        }
      ],
      "source": []
    },
    {
      "cell_type": "code",
      "metadata": {
        "colab": {
          "base_uri": "https://localhost:8080/"
        },
        "id": "6fc687f0",
        "outputId": "917d1663-39ee-4479-f63b-7097d398649b"
      },
      "source": [
        "!pip install equinox"
      ],
      "execution_count": 5,
      "outputs": [
        {
          "output_type": "stream",
          "name": "stdout",
          "text": [
            "Requirement already satisfied: equinox in /usr/local/lib/python3.12/dist-packages (0.13.1)\n",
            "Requirement already satisfied: jax!=0.7.0,!=0.7.1,>=0.4.38 in /usr/local/lib/python3.12/dist-packages (from equinox) (0.5.3)\n",
            "Requirement already satisfied: jaxtyping>=0.2.20 in /usr/local/lib/python3.12/dist-packages (from equinox) (0.3.3)\n",
            "Requirement already satisfied: typing-extensions>=4.5.0 in /usr/local/lib/python3.12/dist-packages (from equinox) (4.15.0)\n",
            "Requirement already satisfied: wadler-lindig>=0.1.0 in /usr/local/lib/python3.12/dist-packages (from equinox) (0.1.7)\n",
            "Requirement already satisfied: jaxlib<=0.5.3,>=0.5.3 in /usr/local/lib/python3.12/dist-packages (from jax!=0.7.0,!=0.7.1,>=0.4.38->equinox) (0.5.3)\n",
            "Requirement already satisfied: ml_dtypes>=0.4.0 in /usr/local/lib/python3.12/dist-packages (from jax!=0.7.0,!=0.7.1,>=0.4.38->equinox) (0.5.3)\n",
            "Requirement already satisfied: numpy>=1.25 in /usr/local/lib/python3.12/dist-packages (from jax!=0.7.0,!=0.7.1,>=0.4.38->equinox) (2.0.2)\n",
            "Requirement already satisfied: opt_einsum in /usr/local/lib/python3.12/dist-packages (from jax!=0.7.0,!=0.7.1,>=0.4.38->equinox) (3.4.0)\n",
            "Requirement already satisfied: scipy>=1.11.1 in /usr/local/lib/python3.12/dist-packages (from jax!=0.7.0,!=0.7.1,>=0.4.38->equinox) (1.16.2)\n"
          ]
        }
      ]
    },
    {
      "cell_type": "markdown",
      "metadata": {
        "id": "63747e29"
      },
      "source": [
        "After running the above cell to install `equinox`, you should be able to run the original cell without the `ModuleNotFoundError`. The error occurred because Python couldn't find the `equinox` library when trying to import it. Installing the library makes it available for use."
      ]
    },
    {
      "cell_type": "code",
      "source": [
        "import equinox as eqx\n",
        "import jax\n",
        "import jax.numpy as jnp\n",
        "import optax\n",
        "import torch\n",
        "import torchvision\n",
        "from jaxtyping import Array,Float,Int,PyTree\n",
        "import numpy as np"
      ],
      "metadata": {
        "id": "lqTrRRqpS-mC"
      },
      "execution_count": 13,
      "outputs": []
    },
    {
      "cell_type": "code",
      "source": [
        "# Hyperparameters\n",
        "BATCH_SIZE=64\n",
        "LEARNING_RATE=3E-4\n",
        "STEPS=300\n",
        "PRINT_EVERY=30\n",
        "SEED=5678\n",
        "key=jax.random.PRNGKey(SEED)"
      ],
      "metadata": {
        "id": "mOk6e2B6TdTj"
      },
      "execution_count": 9,
      "outputs": []
    },
    {
      "cell_type": "markdown",
      "source": [
        "# The DATSET"
      ],
      "metadata": {
        "id": "Euke3SKvUDDD"
      }
    },
    {
      "cell_type": "code",
      "source": [
        "normalise_data=torchvision.transforms.Compose([torchvision.transforms.ToTensor(),torchvision.transforms.Normalize((0.5,),(0.5,))])\n",
        "train_dataset=torchvision.datasets.MNIST(root='./data',train=True,download=True,transform=normalise_data)\n",
        "test_dataset=torchvision.datasets.MNIST(root='./data',train=False,download=True,transform=normalise_data)\n",
        "trainloader= torch.utils.data.DataLoader(train_dataset,batch_size=BATCH_SIZE,shuffle=True)  #iterator (images,label)\n",
        "testloader= torch.utils.data.DataLoader(test_dataset,batch_size=BATCH_SIZE,shuffle=True)"
      ],
      "metadata": {
        "colab": {
          "base_uri": "https://localhost:8080/"
        },
        "id": "r2_dOfm3T8Ds",
        "outputId": "7292a09a-5d20-4711-b0d2-d37170a1d850"
      },
      "execution_count": 10,
      "outputs": [
        {
          "output_type": "stream",
          "name": "stderr",
          "text": [
            "100%|██████████| 9.91M/9.91M [00:00<00:00, 18.0MB/s]\n",
            "100%|██████████| 28.9k/28.9k [00:00<00:00, 477kB/s]\n",
            "100%|██████████| 1.65M/1.65M [00:00<00:00, 4.45MB/s]\n",
            "100%|██████████| 4.54k/4.54k [00:00<00:00, 6.32MB/s]\n"
          ]
        }
      ]
    },
    {
      "cell_type": "code",
      "source": [
        "# checking our data\n",
        "# trainloader gives me the batches of the data\n",
        "dummy_x,dummy_y=next(iter(trainloader))\n",
        "dummy_x=dummy_x.numpy()  #converts pytorch tensor to numpy array #np would not work because no such method\n",
        "dummy_y=dummy_y.numpy()\n",
        "print(dummy_x.shape)\n",
        "print(dummy_y.shape)\n",
        "print(dummy_y)\n"
      ],
      "metadata": {
        "colab": {
          "base_uri": "https://localhost:8080/"
        },
        "id": "uHZxC9AHU5U9",
        "outputId": "0f35f196-6223-409a-85a4-eb2c1e070691"
      },
      "execution_count": 33,
      "outputs": [
        {
          "output_type": "stream",
          "name": "stdout",
          "text": [
            "(64, 1, 28, 28)\n",
            "(64,)\n",
            "[2 5 1 1 6 9 5 0 6 6 4 0 0 5 8 9 5 9 4 3 0 8 9 4 1 9 2 4 0 3 3 5 2 5 3 1 1\n",
            " 7 1 5 7 3 2 8 7 5 9 3 9 5 7 7 4 8 4 0 4 1 3 6 5 4 0 9]\n"
          ]
        }
      ]
    },
    {
      "cell_type": "code",
      "source": [
        "for images,labels in trainloader:\n",
        "  print(images.shape)\n",
        "  print(labels.shape)\n",
        "  break"
      ],
      "metadata": {
        "colab": {
          "base_uri": "https://localhost:8080/"
        },
        "id": "k-3hqDtjW7Xs",
        "outputId": "9e904c5b-da77-4e78-94ea-43c929371869"
      },
      "execution_count": 31,
      "outputs": [
        {
          "output_type": "stream",
          "name": "stdout",
          "text": [
            "torch.Size([64, 1, 28, 28])\n",
            "torch.Size([64])\n"
          ]
        }
      ]
    },
    {
      "cell_type": "markdown",
      "source": [
        "# The Model"
      ],
      "metadata": {
        "id": "8dLyrfbIqKau"
      }
    },
    {
      "cell_type": "code",
      "source": [
        "class CNN(eqx.Module):\n",
        "  layers:list\n",
        "\n",
        "  def __init__(self,key):\n",
        "    key1,key2,key3,key4= jax.random.split(key,4)\n",
        "\n",
        "    # standard CNN setup : convolutional layer, followed by flattening.\n",
        "    # with a small MLP on top.\n",
        "    self.layers =[\n",
        "        eqx.nn.Conv2d(1,3,kernel_size=4,key=key1),  # the size of the output is output_size = input_size - kernel_size + 1\n",
        "        eqx.nn.MaxPool2d(kernel_size=2),\n",
        "        jax.nn.relu,\n",
        "        jnp.ravel,\n",
        "        eqx.nn.Linear(1728,512,key=key2),\n",
        "        jax.nn.sigmoid,\n",
        "        eqx.nn.Linear(512,64,key=key3),\n",
        "        jax.nn.relu,\n",
        "        eqx.nn.Linear(64,10,key=key4),\n",
        "        jax.nn.log_softmax,\n",
        "\n",
        "    ]\n",
        "\n",
        "    def __call__(self,x:Float[Array,\"1 28 28\"])-> Float[Array, \"10\"]: # call function you can call the object like a function\n",
        "      for layer in self.layers:\n",
        "        x=layer(x)\n",
        "      return x\n",
        "key,subkey=jax.random.split(key,2)\n",
        "model=CNN(subkey)"
      ],
      "metadata": {
        "id": "L_zeTvIkqKG4"
      },
      "execution_count": 34,
      "outputs": []
    },
    {
      "cell_type": "code",
      "source": [
        "print(model)"
      ],
      "metadata": {
        "colab": {
          "base_uri": "https://localhost:8080/"
        },
        "id": "3F-96Uy53tp-",
        "outputId": "a34c210f-3904-4a43-d686-8d1fab932a39"
      },
      "execution_count": 36,
      "outputs": [
        {
          "output_type": "stream",
          "name": "stdout",
          "text": [
            "CNN(\n",
            "  layers=[\n",
            "    Conv2d(\n",
            "      num_spatial_dims=2,\n",
            "      weight=f32[3,1,4,4],\n",
            "      bias=f32[3,1,1],\n",
            "      in_channels=1,\n",
            "      out_channels=3,\n",
            "      kernel_size=(4, 4),\n",
            "      stride=(1, 1),\n",
            "      padding=((0, 0), (0, 0)),\n",
            "      dilation=(1, 1),\n",
            "      groups=1,\n",
            "      use_bias=True,\n",
            "      padding_mode='ZEROS'\n",
            "    ),\n",
            "    MaxPool2d(\n",
            "      init=-inf,\n",
            "      operation=<function max>,\n",
            "      num_spatial_dims=2,\n",
            "      kernel_size=(2, 2),\n",
            "      stride=(1, 1),\n",
            "      padding=((0, 0), (0, 0)),\n",
            "      use_ceil=False\n",
            "    ),\n",
            "    <PjitFunction of <function relu at 0x7a8f0fc7a0c0>>,\n",
            "    <PjitFunction of <function ravel at 0x7a8f10269ee0>>,\n",
            "    Linear(\n",
            "      weight=f32[512,1728],\n",
            "      bias=f32[512],\n",
            "      in_features=1728,\n",
            "      out_features=512,\n",
            "      use_bias=True\n",
            "    ),\n",
            "    <PjitFunction of <function sigmoid at 0x7a8f0fd62e80>>,\n",
            "    Linear(\n",
            "      weight=f32[64,512],\n",
            "      bias=f32[64],\n",
            "      in_features=512,\n",
            "      out_features=64,\n",
            "      use_bias=True\n",
            "    ),\n",
            "    <PjitFunction of <function relu at 0x7a8f0fc7a0c0>>,\n",
            "    Linear(\n",
            "      weight=f32[10,64],\n",
            "      bias=f32[10],\n",
            "      in_features=64,\n",
            "      out_features=10,\n",
            "      use_bias=True\n",
            "    ),\n",
            "    <PjitFunction of <function log_softmax at 0x7a8f0fd6ed40>>\n",
            "  ]\n",
            ")\n"
          ]
        }
      ]
    }
  ]
}