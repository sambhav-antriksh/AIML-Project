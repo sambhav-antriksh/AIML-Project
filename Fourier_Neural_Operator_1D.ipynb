{
  "nbformat": 4,
  "nbformat_minor": 0,
  "metadata": {
    "colab": {
      "provenance": [],
      "gpuType": "T4",
      "authorship_tag": "ABX9TyPhinwJedUTiRGX+shm7g/j",
      "include_colab_link": true
    },
    "kernelspec": {
      "name": "python3",
      "display_name": "Python 3"
    },
    "language_info": {
      "name": "python"
    },
    "accelerator": "GPU"
  },
  "cells": [
    {
      "cell_type": "markdown",
      "metadata": {
        "id": "view-in-github",
        "colab_type": "text"
      },
      "source": [
        "<a href=\"https://colab.research.google.com/github/sambhav-antriksh/AIML-Project/blob/main/Fourier_Neural_Operator_1D.ipynb\" target=\"_parent\"><img src=\"https://colab.research.google.com/assets/colab-badge.svg\" alt=\"Open In Colab\"/></a>"
      ]
    },
    {
      "cell_type": "markdown",
      "source": [],
      "metadata": {
        "id": "U_nlT0Rg49Yv"
      }
    },
    {
      "cell_type": "markdown",
      "source": [
        "# **Fourier Neural Opertors (FNO) in JAX**\n",
        "we would use Equinox and Optax."
      ],
      "metadata": {
        "id": "A0pmnZ_C5AFG"
      }
    },
    {
      "cell_type": "code",
      "source": [
        "%pip install equinox"
      ],
      "metadata": {
        "id": "BZJI77tE5-xd",
        "colab": {
          "base_uri": "https://localhost:8080/"
        },
        "outputId": "4f93a90f-de75-4107-a294-119f7e5ae255"
      },
      "execution_count": 1,
      "outputs": [
        {
          "output_type": "stream",
          "name": "stdout",
          "text": [
            "Collecting equinox\n",
            "  Downloading equinox-0.13.1-py3-none-any.whl.metadata (19 kB)\n",
            "Requirement already satisfied: jax!=0.7.0,!=0.7.1,>=0.4.38 in /usr/local/lib/python3.12/dist-packages (from equinox) (0.5.3)\n",
            "Collecting jaxtyping>=0.2.20 (from equinox)\n",
            "  Downloading jaxtyping-0.3.3-py3-none-any.whl.metadata (7.8 kB)\n",
            "Requirement already satisfied: typing-extensions>=4.5.0 in /usr/local/lib/python3.12/dist-packages (from equinox) (4.15.0)\n",
            "Collecting wadler-lindig>=0.1.0 (from equinox)\n",
            "  Downloading wadler_lindig-0.1.7-py3-none-any.whl.metadata (17 kB)\n",
            "Requirement already satisfied: jaxlib<=0.5.3,>=0.5.3 in /usr/local/lib/python3.12/dist-packages (from jax!=0.7.0,!=0.7.1,>=0.4.38->equinox) (0.5.3)\n",
            "Requirement already satisfied: ml_dtypes>=0.4.0 in /usr/local/lib/python3.12/dist-packages (from jax!=0.7.0,!=0.7.1,>=0.4.38->equinox) (0.5.3)\n",
            "Requirement already satisfied: numpy>=1.25 in /usr/local/lib/python3.12/dist-packages (from jax!=0.7.0,!=0.7.1,>=0.4.38->equinox) (2.0.2)\n",
            "Requirement already satisfied: opt_einsum in /usr/local/lib/python3.12/dist-packages (from jax!=0.7.0,!=0.7.1,>=0.4.38->equinox) (3.4.0)\n",
            "Requirement already satisfied: scipy>=1.11.1 in /usr/local/lib/python3.12/dist-packages (from jax!=0.7.0,!=0.7.1,>=0.4.38->equinox) (1.16.2)\n",
            "Downloading equinox-0.13.1-py3-none-any.whl (179 kB)\n",
            "\u001b[2K   \u001b[90m━━━━━━━━━━━━━━━━━━━━━━━━━━━━━━━━━━━━━━━━\u001b[0m \u001b[32m179.3/179.3 kB\u001b[0m \u001b[31m4.8 MB/s\u001b[0m eta \u001b[36m0:00:00\u001b[0m\n",
            "\u001b[?25hDownloading jaxtyping-0.3.3-py3-none-any.whl (55 kB)\n",
            "\u001b[2K   \u001b[90m━━━━━━━━━━━━━━━━━━━━━━━━━━━━━━━━━━━━━━━━\u001b[0m \u001b[32m55.9/55.9 kB\u001b[0m \u001b[31m2.5 MB/s\u001b[0m eta \u001b[36m0:00:00\u001b[0m\n",
            "\u001b[?25hDownloading wadler_lindig-0.1.7-py3-none-any.whl (20 kB)\n",
            "Installing collected packages: wadler-lindig, jaxtyping, equinox\n",
            "Successfully installed equinox-0.13.1 jaxtyping-0.3.3 wadler-lindig-0.1.7\n"
          ]
        }
      ]
    },
    {
      "cell_type": "code",
      "source": [
        "import jax\n",
        "import jax.numpy as jnp\n",
        "import equinox as eqx\n",
        "import optax\n",
        "import matplotlib.pyplot as plt\n",
        "from typing import Callable, List\n",
        "import scipy"
      ],
      "metadata": {
        "id": "V7KuUwzWWxtO"
      },
      "execution_count": 2,
      "outputs": []
    },
    {
      "cell_type": "code",
      "source": [
        "# The Dataset\n",
        "# Mathworks (the creators of Matlab) host the original Li et al. Dataset in the .mat format\n",
        "!wget https://ssd.mathworks.com/supportfiles/nnet/data/burgers1d/burgers_data_R10.mat"
      ],
      "metadata": {
        "colab": {
          "base_uri": "https://localhost:8080/"
        },
        "id": "njeB3zE4XZZF",
        "outputId": "121829ca-0fe3-44c6-f287-3ca19ac8f602"
      },
      "execution_count": 3,
      "outputs": [
        {
          "output_type": "stream",
          "name": "stdout",
          "text": [
            "--2025-10-08 10:17:41--  https://ssd.mathworks.com/supportfiles/nnet/data/burgers1d/burgers_data_R10.mat\n",
            "Resolving ssd.mathworks.com (ssd.mathworks.com)... 23.196.156.41\n",
            "Connecting to ssd.mathworks.com (ssd.mathworks.com)|23.196.156.41|:443... connected.\n",
            "HTTP request sent, awaiting response... 200 OK\n",
            "Length: 644427710 (615M) [text/plain]\n",
            "Saving to: ‘burgers_data_R10.mat’\n",
            "\n",
            "burgers_data_R10.ma 100%[===================>] 614.57M  85.0MB/s    in 6.3s    \n",
            "\n",
            "2025-10-08 10:17:48 (97.8 MB/s) - ‘burgers_data_R10.mat’ saved [644427710/644427710]\n",
            "\n"
          ]
        }
      ]
    },
    {
      "cell_type": "code",
      "source": [
        "data=scipy.io.loadmat('burgers_data_R10.mat')"
      ],
      "metadata": {
        "id": "wGepWYC6Xyo5"
      },
      "execution_count": 4,
      "outputs": []
    },
    {
      "cell_type": "code",
      "source": [
        "data.keys()"
      ],
      "metadata": {
        "colab": {
          "base_uri": "https://localhost:8080/"
        },
        "id": "0GHOoqjyY8AF",
        "outputId": "2e29d753-0796-475c-bba0-3e72fa6737ef"
      },
      "execution_count": 5,
      "outputs": [
        {
          "output_type": "execute_result",
          "data": {
            "text/plain": [
              "dict_keys(['__header__', '__version__', '__globals__', 'a', 'a_smooth', 'a_smooth_x', 'a_x', 'u'])"
            ]
          },
          "metadata": {},
          "execution_count": 5
        }
      ]
    },
    {
      "cell_type": "code",
      "source": [
        "a, u = data['a'],data['u']  # a is the initial 1D function and u is the 1D function at t=1"
      ],
      "metadata": {
        "id": "FAplN_wtYpCO"
      },
      "execution_count": 6,
      "outputs": []
    },
    {
      "cell_type": "code",
      "source": [
        "a.shape,u.shape    # these shapes indicate that there are 2048 samples available for 8192 discrete points"
      ],
      "metadata": {
        "colab": {
          "base_uri": "https://localhost:8080/"
        },
        "id": "R2Awlko8ZiDn",
        "outputId": "cb88cdae-ced1-4ae0-de10-5daba2f07df1"
      },
      "execution_count": 7,
      "outputs": [
        {
          "output_type": "execute_result",
          "data": {
            "text/plain": [
              "((2048, 8192), (2048, 8192))"
            ]
          },
          "metadata": {},
          "execution_count": 7
        }
      ]
    },
    {
      "cell_type": "code",
      "source": [
        "a.shape"
      ],
      "metadata": {
        "colab": {
          "base_uri": "https://localhost:8080/"
        },
        "id": "sCS4U7OrZKwU",
        "outputId": "61c1c65c-693c-4999-b73b-ae4da00e9f80"
      },
      "execution_count": 8,
      "outputs": [
        {
          "output_type": "execute_result",
          "data": {
            "text/plain": [
              "(2048, 8192)"
            ]
          },
          "metadata": {},
          "execution_count": 8
        }
      ]
    },
    {
      "cell_type": "code",
      "source": [
        "plt.plot(a[0],label='initial condition')\n",
        "plt.plot(u[0],label='After 1 time unit')\n",
        "plt.legend()\n",
        "plt.grid()"
      ],
      "metadata": {
        "colab": {
          "base_uri": "https://localhost:8080/",
          "height": 430
        },
        "id": "CNLO15IsZOsE",
        "outputId": "5eabaa7f-5a82-4f2e-ae9c-e00688e90688"
      },
      "execution_count": 9,
      "outputs": [
        {
          "output_type": "display_data",
          "data": {
            "text/plain": [
              "<Figure size 640x480 with 1 Axes>"
            ],
            "image/png": "[encoded data removed]"
          },
          "metadata": {}
        }
      ]
    },
    {
      "cell_type": "markdown",
      "source": [
        "In the above curve we see one sample at t=0 and t=1. This is like advection also, in which the negative solution moves to the left and the positive solution moves to the right with smoothening."
      ],
      "metadata": {
        "id": "57PjZj2Aff3u"
      }
    },
    {
      "cell_type": "markdown",
      "source": [
        "# Learn the mapping between the orange to blue one, from the 2048 samples that we have"
      ],
      "metadata": {
        "id": "WnuVndxobyLU"
      }
    },
    {
      "cell_type": "markdown",
      "source": [
        "We are adding the channel dimension because the Fourier Neural Operator (FNO) , like CNN expects the data to be in the format\n",
        "Input shape: [batch, channels, grid_points]\n"
      ],
      "metadata": {
        "id": "B1xiCzpmcw0G"
      }
    },
    {
      "cell_type": "code",
      "source": [
        "# Add channel dimension\n",
        "a=a[:,jnp.newaxis,:]\n",
        "u= u[:,jnp.newaxis, :]"
      ],
      "metadata": {
        "id": "uiTGQ5-zbxct"
      },
      "execution_count": 10,
      "outputs": []
    },
    {
      "cell_type": "code",
      "source": [
        "a.shape,u.shape"
      ],
      "metadata": {
        "colab": {
          "base_uri": "https://localhost:8080/"
        },
        "id": "jDpytUKad-st",
        "outputId": "ed5dc29a-fefa-4c78-fd28-71b845b89f87"
      },
      "execution_count": 11,
      "outputs": [
        {
          "output_type": "execute_result",
          "data": {
            "text/plain": [
              "((2048, 1, 8192), (2048, 1, 8192))"
            ]
          },
          "metadata": {},
          "execution_count": 11
        }
      ]
    },
    {
      "cell_type": "code",
      "source": [
        "# Mesh is from 0 to 2*pi\n",
        "mesh=jnp.linspace(0,2*jnp.pi,u.shape[-1])\n",
        "mesh.shape"
      ],
      "metadata": {
        "id": "cw0pprIfd_tD",
        "colab": {
          "base_uri": "https://localhost:8080/"
        },
        "outputId": "2f7263fc-4945-4307-8cb8-7f18a28418b3"
      },
      "execution_count": 12,
      "outputs": [
        {
          "output_type": "execute_result",
          "data": {
            "text/plain": [
              "(8192,)"
            ]
          },
          "metadata": {},
          "execution_count": 12
        }
      ]
    },
    {
      "cell_type": "code",
      "source": [
        "plt.plot(mesh,a[0][0],label='Initial Condition')\n",
        "plt.plot(mesh,u[0,0],label='After 1 time unit')\n",
        "plt.legend()\n",
        "plt.grid()"
      ],
      "metadata": {
        "colab": {
          "base_uri": "https://localhost:8080/",
          "height": 430
        },
        "id": "v9MwPzBLewB7",
        "outputId": "15ffd8e4-a102-41cd-9748-b30cfba6509e"
      },
      "execution_count": 13,
      "outputs": [
        {
          "output_type": "display_data",
          "data": {
            "text/plain": [
              "<Figure size 640x480 with 1 Axes>"
            ],
            "image/png": "[encoded data removed]"
          },
          "metadata": {}
        }
      ]
    },
    {
      "cell_type": "markdown",
      "source": [
        "Each sample has to be repeated over same mesh."
      ],
      "metadata": {
        "id": "qiJMQsv1goBL"
      }
    },
    {
      "cell_type": "code",
      "source": [
        "mesh_shape_corrected=jnp.repeat(mesh[jnp.newaxis,jnp.newaxis,:],u.shape[0],axis=0)\n",
        "a_with_mesh=jnp.concatenate((a,mesh_shape_corrected),axis=1)\n",
        "# this line of code is important because now we have (2048,2,8192)--> channel 0 gives the function value at every x\n",
        "# and channel 1 gives the mesh grid\n"
      ],
      "metadata": {
        "id": "Y2LvYaFne_ZU"
      },
      "execution_count": 14,
      "outputs": []
    },
    {
      "cell_type": "code",
      "source": [
        "a_with_mesh.shape,mesh_shape_corrected.shape,mesh_shape_corrected[0,0]"
      ],
      "metadata": {
        "colab": {
          "base_uri": "https://localhost:8080/"
        },
        "id": "eiGlAsATjLHs",
        "outputId": "b1f9e8cd-2d93-453f-aa00-1d7c5444b295"
      },
      "execution_count": 15,
      "outputs": [
        {
          "output_type": "execute_result",
          "data": {
            "text/plain": [
              "((2048, 2, 8192),\n",
              " (2048, 1, 8192),\n",
              " Array([0.0000000e+00, 7.6708401e-04, 1.5341680e-03, ..., 6.2816510e+00,\n",
              "        6.2824183e+00, 6.2831855e+00], dtype=float32))"
            ]
          },
          "metadata": {},
          "execution_count": 15
        }
      ]
    },
    {
      "cell_type": "code",
      "source": [
        "train_x=a_with_mesh[:1000]\n",
        "test_x=a_with_mesh[1000:1200]\n",
        "train_y=u[:1000]\n",
        "test_y=u[1000:1200]"
      ],
      "metadata": {
        "id": "l06U_XRml3Ts"
      },
      "execution_count": 16,
      "outputs": []
    },
    {
      "cell_type": "markdown",
      "source": [
        "## Building FNO"
      ],
      "metadata": {
        "id": "bn1cm3TGm0G0"
      }
    },
    {
      "cell_type": "code",
      "source": [
        "class SpectralConv1d(eqx.Module):  #this class is inside the eqx.Module class\n",
        "    real_weights: jax.Array\n",
        "    imag_weights: jax.Array\n",
        "    in_channels: int\n",
        "    out_channels: int\n",
        "    modes: int\n",
        "    def __init__(self,in_channels,out_channels,modes,*,key,):\n",
        "      self.in_channels=in_channels\n",
        "      self.out_channels=out_channels\n",
        "      self.modes=modes\n",
        "\n",
        "      scale=1.0/(in_channels*out_channels)\n",
        "      real_key,imag_key=jax.random.split(key)\n",
        "      self.real_weights=jax.random.uniform(\n",
        "          real_key,(in_channels,out_channels,modes),\n",
        "          minval=-scale,\n",
        "          maxval=+scale,)\n",
        "      self.imag_weights=jax.random.uniform(\n",
        "          imag_key,(in_channels,out_channels,modes),\n",
        "          minval=-scale,\n",
        "          maxval=+scale,)\n",
        "\n",
        "    def complex_mult1d(self,x_hat,w,):\n",
        "        return jnp.einsum('iM,ioM->oM',x_hat,w)\n",
        "      # Forward Pass\n",
        "    def __call__(self,x,):\n",
        "        channels,spatial_points=x.shape\n",
        "\n",
        "        x_hat=jnp.fft.rfft(x,axis=-1)\n",
        "          # shape of x_hat is (in_channels,spatial_points//2+1)\n",
        "\n",
        "        x_hat_under_modes=x_hat[:,:self.modes]\n",
        "          # shape of x_hat_under_modes is (in_channels,self.modes)\n",
        "        weights= self.real_weights + 1j * self.imag_weights\n",
        "          # shape of out_hat_under_modes is (out_channels,self.modes)\n",
        "        out_hat_under_modes= self.complex_mult1d(x_hat_under_modes,weights)\n",
        "          # shape of out_hat is (out_channels,spatial_points//2+1)\n",
        "        out_hat=jnp.zeros((self.out_channels,x_hat.shape[-1]),dtype=x_hat.dtype)\n",
        "        out_hat=out_hat.at[:,:self.modes].set(out_hat_under_modes)\n",
        "\n",
        "        out=jnp.fft.irfft(out_hat,n=spatial_points)\n",
        "\n",
        "        return out\n"
      ],
      "metadata": {
        "id": "c6gy3bftm4EV"
      },
      "execution_count": 17,
      "outputs": []
    },
    {
      "cell_type": "code",
      "source": [
        "class FNOBlock1d(eqx.Module):\n",
        "  spectral_conv: SpectralConv1d\n",
        "  bypass_conv: eqx.nn.Conv1d\n",
        "  activation : Callable\n",
        "\n",
        "  def __init__(self,in_channels,out_channels,modes,activation,*,key,):\n",
        "    spectral_conv_key,bypass_conv_key=jax.random.split(key)\n",
        "    self.spectral_conv= SpectralConv1d(in_channels,out_channels,modes,key=spectral_conv_key,)\n",
        "    self.bypass_conv= eqx.nn.Conv1d(in_channels,out_channels,1,key=bypass_conv_key,)  #kernel size is 1\n",
        "    self.activation=activation\n",
        "\n",
        "  def __call__(self,x,):\n",
        "      return self.activation(self.spectral_conv(x)+self.bypass_conv(x))"
      ],
      "metadata": {
        "id": "CAzI98qMoHlM"
      },
      "execution_count": null,
      "outputs": []
    },
    {
      "cell_type": "code",
      "source": [
        "class FNO1D(eqx.Module):\n",
        "  lifting: eqx.nn.Conv1d\n",
        "  fno_blocks: List[FNOBlock1d]\n",
        "  projection: eqx.nn.Conv1d\n",
        "\n",
        "  def __init__(self,in_channels,out_channels,modes,width,activation,n_blocks=4,*,key,):\n",
        "      key,lifting_key=jax.random.split(key)\n",
        "      self.lifting=eqx.nn.Conv1d(in_channels,width,1,key=lifting_key)\n",
        "\n",
        "      self.fno_blocks=[]\n",
        "      for i in range(n_blocks):\n",
        "          key,subkey = jax.random.split(key)\n",
        "          self.fno_blocks.append(FNOBlock1d(width,width,modes,activation,key=subkey,))\n",
        "\n",
        "      key,projection_key=jax.random.split(key)\n",
        "\n",
        "      self.projection=eqx.nn.Conv1d(width,out_channels,1,key=projection_key,)\n",
        "\n",
        "\n",
        "  def __call__(self,x,):\n",
        "      x=self.lifting(x)\n",
        "\n",
        "      for fno_block in self.fno_blocks:\n",
        "          x=fno_block(x)\n",
        "\n",
        "      x=self.projection(x)\n",
        "\n",
        "      return x"
      ],
      "metadata": {
        "id": "Lv4nrNWPs4Y7"
      },
      "execution_count": null,
      "outputs": []
    },
    {
      "cell_type": "code",
      "source": [
        "fno=FNO1D(\n",
        "    2,\n",
        "    1,\n",
        "    16,\n",
        "    64,\n",
        "    jax.nn.relu,\n",
        "    key=jax.random.PRNGKey(0),\n",
        "    )"
      ],
      "metadata": {
        "id": "KzuAN4Q9wU_L"
      },
      "execution_count": null,
      "outputs": []
    },
    {
      "cell_type": "code",
      "source": [
        "def dataloader(key,dataset_x,dataset_y,batch_size,):\n",
        "    n_samples=dataset_x.shape[0]\n",
        "    n_batches= int(jnp.ceil(n_samples/batch_size))\n",
        "\n",
        "    permutation= jax.random.permutation(key,n_samples)\n",
        "\n",
        "    for batch_id in range(n_batches):\n",
        "        start=batch_id*batch_size\n",
        "        end=min((batch_id+1)*batch_size,n_samples)\n",
        "\n",
        "        batch_idx= permutation[start:end]\n",
        "\n",
        "        yield dataset_x[batch_idx],dataset_y[batch_idx]\n",
        "\n",
        ""
      ],
      "metadata": {
        "id": "pbAZIj7hxTao"
      },
      "execution_count": null,
      "outputs": []
    },
    {
      "cell_type": "code",
      "source": [],
      "metadata": {
        "id": "NA3N1V1SG_v5"
      },
      "execution_count": null,
      "outputs": []
    }
  ]
}